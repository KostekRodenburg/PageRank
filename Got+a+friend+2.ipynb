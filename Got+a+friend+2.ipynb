{
 "cells": [
  {
   "cell_type": "code",
   "execution_count": null,
   "metadata": {
    "collapsed": true
   },
   "outputs": [],
   "source": [
    "def got_a_friend_2(A: List[list], site: int) -> List[int]:\n",
    "    \"\"\"a second code to have two nodes created a bi-directed \"\"\"\n",
    "    b = []\n",
    "    for i in range(len(A)):    \n",
    "        c = A[site][i]  ##so the original values get saved\n",
    "        d = A[i][site]\n",
    "        A[site][i] = 1  ##creating a bi-directed edge\n",
    "        A[i][site] = 1 \n",
    "        b.append([i+1,Ak_e(A, 0.85)[site]*100])\n",
    "        A[site][i] = c  ##returning the values to their original state\n",
    "        A[i][site] = d \n",
    "    return b"
   ]
  }
 ],
 "metadata": {
  "kernelspec": {
   "display_name": "Python 3",
   "language": "python",
   "name": "python3"
  },
  "language_info": {
   "codemirror_mode": {
    "name": "ipython",
    "version": 3
   },
   "file_extension": ".py",
   "mimetype": "text/x-python",
   "name": "python",
   "nbconvert_exporter": "python",
   "pygments_lexer": "ipython3",
   "version": "3.6.1"
  }
 },
 "nbformat": 4,
 "nbformat_minor": 2
}
