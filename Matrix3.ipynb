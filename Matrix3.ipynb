{
 "cells": [
  {
   "cell_type": "code",
   "execution_count": 1,
   "metadata": {
    "collapsed": true
   },
   "outputs": [],
   "source": [
    "import random\n",
    "from typing import List\n",
    "import numpy as np\n",
    "import matplotlib.pyplot as plt\n",
    "%matplotlib inline"
   ]
  },
  {
   "cell_type": "markdown",
   "metadata": {},
   "source": [
    "# 2 Create your test internet"
   ]
  },
  {
   "cell_type": "code",
   "execution_count": 2,
   "metadata": {
    "collapsed": true
   },
   "outputs": [],
   "source": [
    "#/ start function zero_matrix()\n",
    "\n",
    "def zero_matrix(a: int) -> List[list]:\n",
    "    \"\"\"A function for creating a new zero filed matrix of a x a, a is the parameter\"\"\"\n",
    "    \n",
    "    matrix = []\n",
    "    for i in range(a):        ## a is here the number of rows\n",
    "        row = []               \n",
    "        for j in range(a):    ## filling a row with a elements (so a is here the number of colomb per row)\n",
    "            row.append(0)\n",
    "        matrix.append(row)\n",
    "        \n",
    "    return matrix\n",
    "#/ close function zero_matrix()"
   ]
  },
  {
   "cell_type": "code",
   "execution_count": 3,
   "metadata": {
    "collapsed": true
   },
   "outputs": [],
   "source": [
    "#/ start function ref(A,i)\n",
    "\n",
    "def ref(A: List[list], i: int) -> List[list]:\n",
    "    \"\"\"A is matrix, i is row number. The function checks if point A[x][i] is not 1 or A[i][i] (which are standard 0),\n",
    "    if so, than it runs again for a new random genereted x, if not, it turns A[x][i] into 1.\"\"\"\n",
    "   \n",
    "    m = len(A)                         ##Number of rows in A, nessecary for generating x\n",
    "    x = i                              ##To start the while loop x is starts as i\n",
    "    while A[x][i] == 1 or x == i:\n",
    "        x = int (m * random.random())  ##Generating x  \n",
    "    A[x][i] = 1                        ##When found a propper x, giving A[x][i] the value 1\n",
    "    \n",
    "    return A\n",
    "\n",
    "#/ close function ref(A,i)"
   ]
  },
  {
   "cell_type": "code",
   "execution_count": 4,
   "metadata": {
    "collapsed": true
   },
   "outputs": [],
   "source": [
    "#/ start function all_ref(A,n)\n",
    "\n",
    "def all_ref(A: List[list], n: int) -> List[list]:\n",
    "    \"\"\"A is the given matrix, n is the max number of references. A function for giving every site a number of links, \n",
    "    with a maximum of n, in the colombs. So the first colomb show the links given from site 1. The first row shows\n",
    "    the links given to site 1. So if A[1][2] is 1, (second row, tird colomb) the tird site links to site 2\"\"\"\n",
    "    m = len(A)                                  ##number of rows in A for the for loop.\n",
    "    for i in range(m):\n",
    "        p = min(n,1 + int( n * random.random()))##random number of references, with minimum 1, maximum n, for site i\n",
    "        for j in range(p):\n",
    "            ref(A, i)                           ##filling colomb i with the random number of refernces\n",
    "    return A\n",
    "\n",
    "#/ close function all_ref(A,n)"
   ]
  },
  {
   "cell_type": "code",
   "execution_count": 5,
   "metadata": {},
   "outputs": [
    {
     "data": {
      "text/plain": [
       "[[0, 0, 0, 0, 0, 0, 0, 0, 0, 1, 1, 0, 0, 0, 0, 0, 0, 0, 0, 0],\n",
       " [0, 0, 0, 1, 0, 0, 0, 1, 0, 0, 0, 1, 0, 0, 1, 0, 0, 0, 0, 0],\n",
       " [0, 0, 0, 1, 0, 0, 0, 0, 0, 0, 0, 0, 0, 0, 0, 0, 0, 0, 0, 0],\n",
       " [1, 1, 0, 0, 0, 0, 0, 0, 0, 0, 1, 0, 0, 0, 0, 0, 0, 0, 1, 0],\n",
       " [1, 0, 0, 0, 0, 0, 0, 1, 0, 0, 0, 0, 0, 1, 0, 0, 0, 0, 0, 0],\n",
       " [0, 0, 0, 0, 0, 0, 0, 1, 0, 1, 0, 0, 0, 0, 0, 0, 0, 0, 0, 1],\n",
       " [0, 0, 0, 0, 0, 0, 0, 0, 0, 0, 1, 0, 0, 0, 1, 0, 0, 1, 0, 0],\n",
       " [0, 0, 0, 0, 0, 0, 0, 0, 1, 0, 0, 0, 0, 0, 0, 1, 1, 1, 1, 0],\n",
       " [1, 0, 0, 0, 0, 0, 0, 1, 0, 0, 0, 0, 0, 1, 0, 0, 0, 0, 0, 0],\n",
       " [0, 0, 0, 0, 0, 1, 0, 1, 1, 0, 0, 0, 0, 1, 1, 0, 1, 1, 0, 0],\n",
       " [0, 0, 0, 0, 0, 0, 0, 0, 0, 1, 0, 0, 0, 0, 0, 0, 0, 0, 0, 1],\n",
       " [0, 0, 0, 0, 1, 1, 0, 0, 0, 0, 0, 0, 0, 0, 1, 0, 0, 1, 0, 1],\n",
       " [0, 0, 0, 0, 0, 0, 0, 0, 0, 0, 0, 0, 0, 0, 0, 1, 0, 0, 1, 0],\n",
       " [0, 1, 0, 0, 0, 0, 1, 0, 0, 0, 0, 0, 0, 0, 0, 1, 0, 0, 0, 0],\n",
       " [0, 0, 1, 1, 0, 0, 0, 0, 0, 0, 0, 0, 0, 1, 0, 0, 0, 0, 0, 1],\n",
       " [1, 0, 0, 0, 0, 0, 0, 0, 0, 1, 1, 0, 0, 0, 1, 0, 0, 0, 0, 0],\n",
       " [0, 1, 0, 1, 0, 0, 0, 0, 0, 0, 0, 1, 1, 1, 0, 1, 0, 0, 0, 0],\n",
       " [0, 0, 0, 0, 0, 0, 1, 0, 0, 0, 1, 0, 0, 0, 0, 1, 0, 0, 0, 0],\n",
       " [0, 1, 0, 0, 0, 0, 0, 0, 1, 0, 1, 0, 0, 0, 0, 0, 0, 0, 0, 0],\n",
       " [0, 1, 1, 0, 0, 0, 1, 0, 0, 1, 0, 0, 0, 0, 0, 0, 0, 0, 0, 0]]"
      ]
     },
     "execution_count": 5,
     "metadata": {},
     "output_type": "execute_result"
    }
   ],
   "source": [
    "#/ start function internet(a,links)\n",
    "\n",
    "def internet(a: int, links: int) -> List[list]:\n",
    "    \"\"\"a is the number of sites in the internet, links is the maximum number of links per site. A funciton for creating\n",
    "    a site with a sites in it. Every site links to maximum links links. \"\"\"\n",
    "    \n",
    "    A = zero_matrix(a)     ##creating a blanck matrix of the form a x a\n",
    "    all_ref(A, links)   ##filling the matrix with links\n",
    "    return A\n",
    "                                         \n",
    "#/ close function internet(a,links)\n",
    "B = internet(20,6)\n",
    "B"
   ]
  },
  {
   "cell_type": "markdown",
   "metadata": {},
   "source": [
    "# 3 Page rank by random walk\n",
    "\n",
    "> Next section goes on on B, generated in section 2. This because than it's easier to see the differences in differnt probability weights."
   ]
  },
  {
   "cell_type": "code",
   "execution_count": 6,
   "metadata": {
    "collapsed": true
   },
   "outputs": [],
   "source": [
    "#/ start function links_of_site(i,A)\n",
    "\n",
    "def links_of_site(i: int, A: List[list]) -> List[int]:\n",
    "    \"\"\"i is the number of the site from 0 to m-1. A is the internet of sites. \n",
    "    A function wich returns a list of links of site i.\"\"\"\n",
    "    m = len(A)                ##number of rows in A \n",
    "    links = []                ##creating list for numbering the links of site i\n",
    "    for j in range(m):\n",
    "        if A[j][i] ==1:       ##if site i links to site j, than the number j comes in the list links\n",
    "            links.append(j)\n",
    "    return links\n",
    "\n",
    "#/ close function links_of_site(i,A)"
   ]
  },
  {
   "cell_type": "code",
   "execution_count": 7,
   "metadata": {
    "collapsed": true
   },
   "outputs": [],
   "source": [
    "#/ start function random_link(i,A)\n",
    "\n",
    "def random_link(i: int,A: List[list]) -> int:\n",
    "    \"\"\"A function wich returns a random item of the list of links from site i in internet A\"\"\"\n",
    "    return random.choice(links_of_site(i,A))\n",
    "\n",
    "#/ close function random_link(i,A)"
   ]
  },
  {
   "cell_type": "code",
   "execution_count": 8,
   "metadata": {
    "collapsed": true
   },
   "outputs": [],
   "source": [
    "#/ start function random_site(A)\n",
    "\n",
    "def random_site(A: List[list]) -> int:\n",
    "    \"\"\"A function wich returns a rondom site of internet A\"\"\"\n",
    "    return random.randrange(len(A))\n",
    "\n",
    "#/ close function random_site(A)"
   ]
  },
  {
   "cell_type": "code",
   "execution_count": 9,
   "metadata": {
    "collapsed": true
   },
   "outputs": [],
   "source": [
    "#/ start function probability(A,i,p)\n",
    "\n",
    "def probability(A: List[list], i: int, p: float) -> int:\n",
    "    \"\"\"A function for making a step to another site, with probability p to a site in the link list of site i, \n",
    "    with probability 1-p to a random site of internet A\"\"\" \n",
    "    if random.random() <= p:      ##if the random number is smaller or equal at the probability, so 1-p goes to else\n",
    "        k = random_link(i,A)\n",
    "    else:\n",
    "        k = random_site(A)\n",
    "    return k\n",
    "\n",
    "#/ close function probability(A,i,p)"
   ]
  },
  {
   "cell_type": "code",
   "execution_count": 10,
   "metadata": {
    "collapsed": true
   },
   "outputs": [],
   "source": [
    "#/ start function steps_between_sites(A, steps, p)\n",
    "\n",
    "def steps_between_sites(A: List[list], steps: int, p: float) -> List[int]:\n",
    "    \"\"\"A function for keeping track of how manny times there is bin on a sertain site with steps number of steps.\"\"\"\n",
    "    site = random.randrange(len(A))      ##initial site is randomly generated\n",
    "    \n",
    "    counter = []                         ##counter gets the desired length, wich is the number of sites of internet A\n",
    "    for i in range(len(A)):\n",
    "        counter.append(0)\n",
    "        \n",
    "    for i in range(steps):               ##for every step the counter gets one more on the steps place\n",
    "        site = probability(A, site, p)\n",
    "        counter[site] = counter[site] + 1\n",
    "        \n",
    "    return counter\n",
    "\n",
    "#/ close function steps_between_sites(A, steps, p)"
   ]
  },
  {
   "cell_type": "code",
   "execution_count": 11,
   "metadata": {},
   "outputs": [
    {
     "name": "stdout",
     "output_type": "stream",
     "text": [
      "<Container object of 20 artists>\n",
      "<Container object of 20 artists>\n",
      "<Container object of 20 artists>\n",
      "<Container object of 20 artists>\n"
     ]
    },
    {
     "data": {
      "image/png": "[encoded data removed]",
      "text/plain": [
       "<matplotlib.figure.Figure at 0x2cbdb79d7b8>"
      ]
     },
     "metadata": {},
     "output_type": "display_data"
    },
    {
     "data": {
      "image/png": "[encoded data removed]",
      "text/plain": [
       "<matplotlib.figure.Figure at 0x2cbdb79d898>"
      ]
     },
     "metadata": {},
     "output_type": "display_data"
    },
    {
     "data": {
      "image/png": "[encoded data removed]",
      "text/plain": [
       "<matplotlib.figure.Figure at 0x2cbdb6cccf8>"
      ]
     },
     "metadata": {},
     "output_type": "display_data"
    },
    {
     "data": {
      "image/png": "[encoded data removed]",
      "text/plain": [
       "<matplotlib.figure.Figure at 0x2cbdb8c8940>"
      ]
     },
     "metadata": {},
     "output_type": "display_data"
    }
   ],
   "source": [
    "#/ start function plot_bar(A, steps, p)\n",
    "\n",
    "def plot_bar(A: List[list], steps: int, p: float) -> plt.bar:\n",
    "    \"\"\"A function for making a bar plot for percentages of being on a sertain site of the internet. Whit a random\n",
    "    walk\"\"\"\n",
    "    y = steps_between_sites(A, steps, p) ##initial counter (not in percentages)\n",
    "    x = []                              ##x-axis (not filled yet)\n",
    "    for i in range(len(A)):\n",
    "        y[i] = y[i] / steps*100         ##y-axis now in percentages\n",
    "        x.append(i+1)                   ##x-axis now filled\n",
    "    fig,ax = plt.subplots()             ##for loading axes labels\n",
    "\n",
    "    ax.set_xticks(x)                     \n",
    "    ax.set_xticklabels(x)               ## labling the x-axis\n",
    "    ax.set_ylabel('Percent')            ## labling the y-axis\n",
    "    ax.set_title('Random walk')         ## titleing the bar plot\n",
    "    \n",
    "    return plt.bar(x,y)\n",
    "\n",
    "#/ close function plot_bar(A, steps, p)\n",
    "print(plot_bar(B, 1000000, 1.00))         ##with probability 0.99\n",
    "print(plot_bar(B, 1000000, 0.99))         ##with probability 0.99\n",
    "print(plot_bar(B, 1000000, 0.85))         ##with probability 0.85\n",
    "print(plot_bar(B, 1000000, 0.50))         ##with probability 0.50"
   ]
  },
  {
   "cell_type": "markdown",
   "metadata": {},
   "source": [
    "Kunnen jullie proberen te verklaren waarom de grafiekjes er zo ongeveer (je hebt natuurlijk te maken met een willekeur elke keer als het programma de functies runt)uitzien en waarom ze hetzelfde blijven alleen dat de verschillen kleiner worden naarmate de probability kleiner wordt?\n",
    "Houd er even rekening mee met je woorden dat elke keer dat je het programma runt er een andere matrix komt en dus andere plots zijn. \n"
   ]
  },
  {
   "cell_type": "markdown",
   "metadata": {},
   "source": [
    "# 4 PageRank due to a matrix eigenvalue problem"
   ]
  },
  {
   "cell_type": "markdown",
   "metadata": {},
   "source": [
    "Weet iemand een efficientere manier om dit uit te rekenen? Denk er even over na, de volgorde bv waarin we de calculaties uitvoeren. En hoe de verhouding is van de grootte van de matrix en lineaire-algebra calculaties. Mag ook louter theoretisch zonder er een code omheen geschreven te hebben. Ze geven aan dat voor de echt google PageRank de orginele matrix millioenen groot is en gemiddeld maar iets van 7 links per colom hebben. "
   ]
  },
  {
   "cell_type": "code",
   "execution_count": 12,
   "metadata": {
    "collapsed": true
   },
   "outputs": [],
   "source": [
    "#/ start function square_matrix_multiplication(X,Y)\n",
    "\n",
    "def square_matrix_multiplication(X: List[list], Y: List[list]) -> List[list]:\n",
    "    \"\"\"A function for the multiplication of two square matrixes X * Y\"\"\"\n",
    "    result = zero_matrix(len(X))                   ## a plain matrix only containing zeros \n",
    "    for i in range(len(X)):                        ## iterate through rows of X\n",
    "        for j in range(len(Y[0])):                 ## iterate through columns of Y\n",
    "            for k in range(len(Y)):                ## iterate through rows of Y\n",
    "                result[i][j] += X[i][k] * Y[k][j]  ## giving the multiplicated values to result\n",
    "    return result\n",
    "\n",
    "#/ close function square_matrix_multiplication(X,Y)"
   ]
  },
  {
   "cell_type": "code",
   "execution_count": 13,
   "metadata": {
    "collapsed": true
   },
   "outputs": [],
   "source": [
    "#/ start function chance_matrix(A,p)\n",
    "\n",
    "def chance_matrix(A: List[list], p: float) -> List[list]:\n",
    "    \"\"\"A function for converting matrix A to a matrix that characterizes the chances\n",
    "    to go from a certain page to another in the Google algorithm.\"\"\"\n",
    "    B = zero_matrix(len(A))                               ## a plain matrix only containing zeros \n",
    "    for i in range(len(A)):                               ## iterate through rows of X\n",
    "        for j in range(len(A[0])):                        ## iterate through columns of X \n",
    "            c = len(links_of_site(j, A))                  ## c is the column sum\n",
    "            if A[i][j] == 0:\n",
    "                B[i][j] = (1-p)/(len(A))                  ## giving the chance values to the plain spots in the matrix\n",
    "            else:\n",
    "                B[i][j] = (p*A[i][j])/c + (1-p)/(len(A))    ## giving the chance values to the ones spots in the matrix\n",
    "    return B\n",
    "\n",
    "#/ start function chance_matrix(A,p)"
   ]
  },
  {
   "cell_type": "code",
   "execution_count": 14,
   "metadata": {
    "collapsed": true
   },
   "outputs": [],
   "source": [
    "#/ start function a_to_the_power(k, A)\n",
    "\n",
    "def A_to_the_power_of(k: int, A: List[list]) -> List[list]:\n",
    "    \"\"\"A function for calculating A to the power of k.\"\"\"\n",
    "    Y = A                                           ## X, Y are both A\n",
    "    if k == 1:\n",
    "        return A                                    ## when k is 1, there is no calculating necessary\n",
    "    else:\n",
    "        for g in range(k-1):                    ## when k is 2, there only schould be one multiplication with itself\n",
    "            X = A\n",
    "            Y = square_matrix_multiplication(X, Y) ## multiplicating with itself once again, (k-1 times)\n",
    "        return Y\n",
    "\n",
    "#/ close function a_to_the_power(k, A)"
   ]
  },
  {
   "cell_type": "code",
   "execution_count": 15,
   "metadata": {
    "collapsed": true
   },
   "outputs": [],
   "source": [
    "#/ start function standard_base_vector(a,A)\n",
    "\n",
    "def standard_base_vector(a: int, A: List[list]) -> List[int]:\n",
    "    \"\"\"A function for generating a standard_base_vector.\"\"\"\n",
    "    vector = []\n",
    "    for i in range(len(A)):\n",
    "        if i == a:                 ## only zero's, except for place a\n",
    "            vector.append(1)\n",
    "        else:\n",
    "            vector.append(0)\n",
    "    return vector\n",
    "\n",
    "#/ close function standard_base_vector(a,A)"
   ]
  },
  {
   "cell_type": "code",
   "execution_count": 16,
   "metadata": {
    "collapsed": true
   },
   "outputs": [],
   "source": [
    "#/ start function Gk_e(A,k)\n",
    "\n",
    "def Gk_e(A: List[list], k: int) -> List[float]:\n",
    "    \"\"\"A function for generating x = lim(k to inf)A^k*e1.(See the mannual for the discription) for any matrix A\n",
    "    and an integer k\"\"\"\n",
    "    X = A_to_the_power_of(k, A)                  ##X is the power matrix\n",
    "    Y = standard_base_vector(0, A)               ##Y is the first standard base vactor\n",
    "    \n",
    "    result = []                                  ##creating a plain end matrix of 1x lenght of Y\n",
    "    for i in range(len(Y)):\n",
    "        result.append(0)\n",
    "\n",
    "    for i in range(len(X)):                     ##iterate through rows of X\n",
    "        for j in range(1):                      ## iterate through columns of Y\n",
    "            for k in range(len(Y)):             ## iterate through rows of Y\n",
    "                result[i] += X[i][k] * Y[k]\n",
    "\n",
    "    z = sum(result)                             ##total of results list values, for scaling\n",
    "    for l in range(len(result)):\n",
    "        result[l] = result[l]/z       ##scaling result, such that the sum of the values of result are 1, \n",
    "                                                ## rounding of on 5\n",
    "    return result\n",
    "\n",
    "#/ close function Gk_e(A,k)"
   ]
  },
  {
   "cell_type": "markdown",
   "metadata": {},
   "source": [
    "Voor te bepalen hoe groot k moet zijn om weinig verandering te zien probeer te spelen met functie Gk_e(A,k). Ik heb gevonden dat 50 in ieder geval groot genoeg is voor een internet van 20 groot, maar misschien dat het ook wel minder kan zijn. "
   ]
  },
  {
   "cell_type": "code",
   "execution_count": 17,
   "metadata": {
    "collapsed": true
   },
   "outputs": [],
   "source": [
    "#/ start function Ak_e(A,p)\n",
    "\n",
    "def Ak_e(A: List[list], p:float) -> List[float]:\n",
    "    \"\"\"A function for generating x = lim(k to inf)A^k*e1.(See the mannual for the discription)\n",
    "    by first converting A to the chance matrix.\"\"\"\n",
    "    B = chance_matrix(A,p)\n",
    "    z = Gk_e(B,50)\n",
    "    return z   \n",
    "\n",
    "#/ close function Ak_e(A,p)"
   ]
  },
  {
   "cell_type": "code",
   "execution_count": 18,
   "metadata": {
    "collapsed": true
   },
   "outputs": [],
   "source": [
    "#/ start function plot_bar4(A,p)\n",
    "def plot_bar4(A: List[list], p: float) -> plt.bar:\n",
    "    \"\"\"A function for making a bar plot for percentages of being on a sertain site of the internet. Whit an\n",
    "    eigenvalue problem\"\"\"\n",
    "    y = Ak_e(A, p)                      ##initial values for y\n",
    "    x = []                              ##x-axis (not filled yet)\n",
    "    for i in range(len(A)):\n",
    "        y[i] = y[i]*100                 ##y-axis now in percentages\n",
    "        x.append(i+1)                   ##x-axis now filled\n",
    "    fig,ax = plt.subplots()             ##for loading axes labels\n",
    "\n",
    "    ax.set_xticks(x)\n",
    "    ax.set_xticklabels(x)               ## labling the x-axis\n",
    "    ax.set_ylabel('Percent')            ## labling the y-axis\n",
    "    ax.set_title('Eigenvalue Problem')  ## titleing the bar plot\n",
    "    \n",
    "    return plt.bar(x,y)\n",
    "\n",
    "#/ close function plot_bar4(A,p)"
   ]
  },
  {
   "cell_type": "code",
   "execution_count": 19,
   "metadata": {},
   "outputs": [
    {
     "name": "stdout",
     "output_type": "stream",
     "text": [
      "0 99 <Container object of 20 artists> 0 99 <Container object of 20 artists>\n",
      "0.85 <Container object of 20 artists> 0 85 <Container object of 20 artists>\n",
      "0 50 <Container object of 20 artists> 0 50 <Container object of 20 artists>\n"
     ]
    },
    {
     "data": {
      "image/png": "[encoded data removed]",
      "text/plain": [
       "<matplotlib.figure.Figure at 0x2cbdbaf3860>"
      ]
     },
     "metadata": {},
     "output_type": "display_data"
    },
    {
     "data": {
      "image/png": "[encoded data removed]",
      "text/plain": [
       "<matplotlib.figure.Figure at 0x2cbdbe46940>"
      ]
     },
     "metadata": {},
     "output_type": "display_data"
    },
    {
     "data": {
      "image/png": "[encoded data removed]",
      "text/plain": [
       "<matplotlib.figure.Figure at 0x2cbdb97f198>"
      ]
     },
     "metadata": {},
     "output_type": "display_data"
    },
    {
     "data": {
      "image/png": "[encoded data removed]",
      "text/plain": [
       "<matplotlib.figure.Figure at 0x2cbdbd6da20>"
      ]
     },
     "metadata": {},
     "output_type": "display_data"
    },
    {
     "data": {
      "image/png": "[encoded data removed]",
      "text/plain": [
       "<matplotlib.figure.Figure at 0x2cbdba0b780>"
      ]
     },
     "metadata": {},
     "output_type": "display_data"
    },
    {
     "data": {
      "image/png": "[encoded data removed]",
      "text/plain": [
       "<matplotlib.figure.Figure at 0x2cbdacde5c0>"
      ]
     },
     "metadata": {},
     "output_type": "display_data"
    }
   ],
   "source": [
    "print(0,99, plot_bar4(B,0.99), 0,99, plot_bar(B, 1000000, 0.99))\n",
    "print(0.85, plot_bar4(B,0.85), 0,85, plot_bar(B, 1000000, 0.85))\n",
    "print(0,50, plot_bar4(B,0.50), 0,50, plot_bar(B, 1000000, 0.50))"
   ]
  },
  {
   "cell_type": "markdown",
   "metadata": {},
   "source": [
    "Proberen jullie de grafiekjes te vergelijken? Wederom houd er even rekening mee dat elke keer dat je het programma runt de grafiekjes veranderen omdat de initiele matrix B opnieuw random word gegenereert.\n",
    "Overigens denk ik vrij zeker te weten dat de meeste code wel klopt, anders zouden de Random Walk en de Eigen Value Problem niet zo verdomd veel op elkaar lijken voor elke p."
   ]
  },
  {
   "cell_type": "markdown",
   "metadata": {},
   "source": [
    "# 5 Increasing the pagerank"
   ]
  },
  {
   "cell_type": "code",
   "execution_count": 20,
   "metadata": {
    "collapsed": true
   },
   "outputs": [],
   "source": [
    "# elke keer veranderen naar de eerstvolgende grootste ranked page die nog niet klaar staat\n",
    "\n",
    "A = [[0, 0, 0, 0, 0, 1, 0, 0, 1, 0, 0, 0, 0, 0, 0, 0, 0, 0, 0, 0],\n",
    " [0, 0, 0, 0, 0, 0, 0, 0, 0, 0, 0, 1, 0, 0, 0, 0, 0, 0, 0, 0],\n",
    " [0, 0, 0, 0, 0, 1, 0, 0, 1, 1, 0, 1, 0, 0, 0, 1, 0, 0, 0, 0],\n",
    " [0, 0, 0, 0, 0, 1, 0, 0, 0, 0, 0, 0, 0, 0, 0, 0, 0, 0, 0, 0],\n",
    " [0, 0, 0, 0, 0, 0, 0, 0, 0, 0, 0, 0, 0, 1, 0, 0, 0, 0, 0, 0],\n",
    " [0, 0, 0, 0, 0, 0, 0, 0, 0, 0, 1, 0, 0, 0, 0, 0, 0, 0, 0, 0],\n",
    " [0, 0, 0, 0, 1, 1, 0, 1, 0, 1, 0, 0, 0, 0, 0, 0, 0, 0, 0, 0],\n",
    " [0, 0, 0, 0, 0, 0, 0, 0, 1, 0, 0, 0, 0, 0, 0, 0, 0, 0, 0, 0],\n",
    " [0, 0, 0, 0, 0, 0, 0, 0, 0, 0, 0, 1, 0, 0, 0, 1, 1, 0, 0, 0],\n",
    " [1, 0, 0, 0, 0, 0, 1, 0, 0, 0, 0, 0, 0, 0, 1, 0, 0, 0, 0, 1],\n",
    " [0, 0, 0, 0, 0, 0, 0, 0, 0, 0, 0, 1, 0, 0, 1, 0, 0, 0, 1, 0],\n",
    " [0, 0, 1, 0, 0, 0, 0, 0, 1, 1, 0, 0, 0, 0, 0, 0, 1, 0, 0, 0],\n",
    " [0, 0, 0, 0, 0, 0, 0, 0, 0, 0, 0, 0, 0, 1, 0, 0, 0, 0, 0, 0],\n",
    " [0, 0, 0, 1, 0, 0, 0, 0, 0, 1, 0, 0, 0, 0, 0, 0, 0, 0, 0, 0],\n",
    " [0, 1, 0, 0, 1, 0, 0, 0, 0, 0, 0, 0, 0, 0, 0, 0, 1, 0, 0, 0],\n",
    " [1, 1, 0, 0, 1, 0, 0, 0, 0, 0, 0, 1, 0, 0, 0, 0, 0, 0, 1, 0],\n",
    " [1, 1, 0, 0, 1, 0, 0, 1, 1, 0, 0, 0, 0, 0, 0, 1, 0, 1, 0, 0],\n",
    " [0, 1, 0, 0, 1, 0, 0, 0, 0, 0, 0, 1, 0, 0, 0, 0, 0, 0, 0, 0],\n",
    " [1, 0, 0, 0, 0, 0, 1, 0, 0, 0, 1, 0, 0, 0, 0, 0, 0, 1, 0, 1],\n",
    " [0, 0, 1, 0, 0, 1, 0, 1, 1, 0, 0, 0, 1, 0, 0, 0, 0, 0, 1, 0]]\n",
    "B = [[0, 0, 1, 0, 0, 1, 0, 0, 0, 0, 0, 0, 0, 1, 1, 0, 1, 0, 0, 0],\n",
    " [0, 0, 1, 0, 0, 1, 0, 0, 1, 0, 1, 0, 0, 0, 0, 0, 0, 1, 0, 0],\n",
    " [0, 0, 0, 1, 1, 0, 0, 0, 0, 0, 0, 0, 0, 1, 0, 1, 0, 0, 0, 0],\n",
    " [0, 0, 0, 0, 1, 0, 0, 0, 0, 1, 0, 0, 1, 0, 0, 0, 0, 0, 0, 0],\n",
    " [1, 0, 1, 0, 0, 0, 0, 0, 0, 0, 0, 0, 1, 1, 0, 0, 0, 0, 0, 0],\n",
    " [0, 1, 0, 1, 0, 0, 0, 0, 0, 0, 1, 0, 0, 1, 0, 1, 0, 0, 0, 1],\n",
    " [1, 0, 0, 1, 1, 0, 0, 1, 1, 0, 0, 1, 0, 0, 0, 0, 0, 0, 0, 0],\n",
    " [0, 1, 0, 0, 0, 0, 0, 0, 0, 0, 0, 0, 0, 0, 0, 0, 0, 0, 0, 1],\n",
    " [0, 1, 0, 0, 0, 0, 0, 1, 0, 0, 0, 0, 0, 0, 0, 1, 0, 0, 1, 0],\n",
    " [0, 0, 0, 1, 0, 0, 0, 0, 0, 0, 1, 0, 0, 0, 0, 0, 0, 0, 0, 0],\n",
    " [0, 0, 0, 0, 0, 0, 0, 0, 0, 0, 0, 0, 0, 0, 1, 0, 0, 0, 0, 0],\n",
    " [1, 1, 0, 0, 0, 0, 0, 0, 0, 0, 1, 0, 0, 0, 0, 1, 1, 0, 1, 0],\n",
    " [0, 0, 0, 0, 1, 0, 0, 0, 0, 0, 0, 0, 0, 0, 0, 1, 0, 0, 0, 0],\n",
    " [0, 1, 0, 0, 0, 0, 0, 0, 0, 0, 0, 0, 0, 0, 0, 0, 0, 0, 0, 0],\n",
    " [0, 0, 0, 0, 0, 0, 0, 0, 0, 0, 0, 0, 0, 0, 0, 0, 0, 0, 0, 0],\n",
    " [0, 0, 0, 0, 0, 1, 0, 0, 1, 0, 0, 1, 0, 0, 0, 0, 0, 0, 1, 0],\n",
    " [0, 0, 0, 0, 0, 0, 1, 0, 1, 0, 0, 0, 0, 0, 0, 0, 0, 0, 0, 0],\n",
    " [0, 1, 0, 0, 0, 1, 0, 0, 0, 0, 0, 0, 0, 0, 0, 0, 0, 0, 0, 0],\n",
    " [0, 0, 0, 0, 0, 0, 0, 0, 1, 0, 0, 0, 0, 0, 0, 0, 0, 0, 0, 0],\n",
    " [0, 0, 1, 1, 0, 0, 0, 0, 0, 0, 1, 0, 0, 0, 0, 1, 0, 0, 0, 0]]"
   ]
  },
  {
   "cell_type": "code",
   "execution_count": 21,
   "metadata": {
    "collapsed": true
   },
   "outputs": [],
   "source": [
    "def add_a_link_ev(A: List[list], site: int) -> List[int]:\n",
    "    \"\"\"add a link to your site to a another site, it returns a list with the site of wich you added a link\n",
    "    and the ranking of your site when you added that link\"\"\"\n",
    "    b = [] \n",
    "    for i in range(len(A)):\n",
    "        c = A[i][site]  ##so the original value got saved\n",
    "        A[i][site] = 1  ##changing one value\n",
    "        b.append([i + 1, Ak_e(A, 0.85)[site]*100])\n",
    "        A[i][site] = c  ##the value got replaced with the original\n",
    "    return b\n",
    "    \n",
    "def remove_a_link_ev(A: List[list], site: int) -> List[int]:\n",
    "    \"\"\"remove a link to your site to a another site, it returns a list with the site of wich you removed a link\n",
    "    and the ranking of your site when you removed that link (when there wasn't a link nothing changes)\"\"\"\n",
    "    b = []\n",
    "    for i in range(len(A)):\n",
    "        c = A[i][site]  ##so the original value got saved\n",
    "        A[i][site] = 0  ##changing one value\n",
    "        b.append([i+1,Ak_e(A, 0.85)[site]*100])\n",
    "        A[i][site] = c  ##the value got replaced with the original\n",
    "    return b\n",
    "\n",
    "def get_a_link_ev(A: List[list], site: int) -> List[int]:\n",
    "    \"\"\"another site adds an link to your site, it returns a list with the site of wich you got a link\n",
    "    and the ranking of your site when you added that link\"\"\"\n",
    "    b = []\n",
    "    for i in range(len(A)):    \n",
    "        c = A[site][i]  ##so the original value got saved\n",
    "        A[site][i] = 1  ##changing one value\n",
    "        b.append([i+1,Ak_e(A, 0.85)[site]*100])\n",
    "        A[site][i] = c  ##the value got replaced with the original\n",
    "    return b\n",
    "\n",
    "def got_a_friend(A: List[list], site1: int, site2: int) -> List[int]:\n",
    "    \"\"\"two sites, site1 and site2 refer to eachother repeat times, it returns the ranking of site1 and site2 \n",
    "    after refering to eachother. !!!DON'T THINK THIS IS THE RIGHT WAY TO DO IT!!!!\"\"\"\n",
    "    c = A[site1][site2]  ##so the original value got saved\n",
    "    d = A[site2][site1]  ##so the original value got saved\n",
    "    A[site1][site2] = 1  ##changing one value\n",
    "    A[site2][site1] = 1  ##changing one value\n",
    "    b = [Ak_e(A, 0.85)[site1], Ak_e(A, 0.85)[site2]]\n",
    "    print(Ak_e(A, 0.84))\n",
    "    A[site1][site2] = c  ##the value got replaced with the original\n",
    "    A[site2][site1] = d  ##the value got replaced with the original\n",
    "    return b"
   ]
  },
  {
   "cell_type": "markdown",
   "metadata": {},
   "source": [
    "Antwoorden als je er vanuit gaat dat rijen de referentie van r_i naar c_i is\n",
    "\n",
    "Pagerank van 1 schiet omhoog zodra je de hoogste value toevoegt\n",
    "Pagerank van 1 gaat niet omhoog zodra je de laagste value weghaalt\n",
    "Pagerank van 1 gaat niet omhoog als een redelijke site hem toevoegt"
   ]
  },
  {
   "cell_type": "code",
   "execution_count": 22,
   "metadata": {},
   "outputs": [
    {
     "name": "stdout",
     "output_type": "stream",
     "text": [
      "0.85 <Container object of 20 artists> 0 85 <Container object of 20 artists>\n"
     ]
    },
    {
     "data": {
      "image/png": "[encoded data removed]",
      "text/plain": [
       "<matplotlib.figure.Figure at 0x2cbdb9d04e0>"
      ]
     },
     "metadata": {},
     "output_type": "display_data"
    },
    {
     "data": {
      "image/png": "[encoded data removed]",
      "text/plain": [
       "<matplotlib.figure.Figure at 0x2cbdc09a5c0>"
      ]
     },
     "metadata": {},
     "output_type": "display_data"
    }
   ],
   "source": [
    "print(0.85, plot_bar4(A,0.85), 0,85, plot_bar(A, 1000000, 0.85))"
   ]
  },
  {
   "cell_type": "code",
   "execution_count": 23,
   "metadata": {},
   "outputs": [
    {
     "data": {
      "text/plain": [
       "[[1, 2.554809898581268],\n",
       " [2, 2.122948697694928],\n",
       " [3, 2.1178552037701315],\n",
       " [4, 2.1103419368237017],\n",
       " [5, 2.120860218035663],\n",
       " [6, 2.175369600273959],\n",
       " [7, 2.115858544542441],\n",
       " [8, 2.1174102181438266],\n",
       " [9, 2.1701048169211297],\n",
       " [10, 2.126431776849802],\n",
       " [11, 2.14109222752156],\n",
       " [12, 2.1284299303956535],\n",
       " [13, 2.112547229748506],\n",
       " [14, 2.113256426863979],\n",
       " [15, 2.1228268306725195],\n",
       " [16, 2.126431776849802],\n",
       " [17, 2.126431776849802],\n",
       " [18, 2.123522775911515],\n",
       " [19, 2.126431776849802],\n",
       " [20, 2.1158585445424407]]"
      ]
     },
     "execution_count": 23,
     "metadata": {},
     "output_type": "execute_result"
    }
   ],
   "source": [
    "add_a_link_ev(A, 0)"
   ]
  },
  {
   "cell_type": "code",
   "execution_count": 24,
   "metadata": {},
   "outputs": [
    {
     "name": "stdout",
     "output_type": "stream",
     "text": [
      "[0.025414913305141694, 0.023483732337961014, 0.06881874693581318, 0.0139084222480703, 0.0240317363014153, 0.03516918004751308, 0.04079062270352973, 0.015561224024243958, 0.05400874302976481, 0.08803679061674707, 0.06468852392339723, 0.08010019216339447, 0.0240317363014153, 0.03817080071825409, 0.03312996712780042, 0.06302624189661403, 0.061240601414879324, 0.027196625634293377, 0.11271396723713886, 0.1064772320326128]\n"
     ]
    },
    {
     "data": {
      "text/plain": [
       "[0.02509521638481383, 0.023204089371902045]"
      ]
     },
     "execution_count": 24,
     "metadata": {},
     "output_type": "execute_result"
    }
   ],
   "source": [
    "got_a_friend(A, 0,1)"
   ]
  },
  {
   "cell_type": "code",
   "execution_count": 25,
   "metadata": {},
   "outputs": [
    {
     "name": "stdout",
     "output_type": "stream",
     "text": [
      "A\t A_to_the_power_of\t Ak_e\t B\t Gk_e\t List\t add_a_link_ev\t all_ref\t chance_matrix\t \n",
      "get_a_link_ev\t got_a_friend\t internet\t links_of_site\t np\t plot_bar\t plot_bar4\t plt\t probability\t \n",
      "random\t random_link\t random_site\t ref\t remove_a_link_ev\t square_matrix_multiplication\t standard_base_vector\t steps_between_sites\t zero_matrix\t \n",
      "\n"
     ]
    }
   ],
   "source": [
    "%who"
   ]
  },
  {
   "cell_type": "code",
   "execution_count": null,
   "metadata": {
    "collapsed": true
   },
   "outputs": [],
   "source": []
  }
 ],
 "metadata": {
  "kernelspec": {
   "display_name": "Python 3",
   "language": "python",
   "name": "python3"
  },
  "language_info": {
   "codemirror_mode": {
    "name": "ipython",
    "version": 3
   },
   "file_extension": ".py",
   "mimetype": "text/x-python",
   "name": "python",
   "nbconvert_exporter": "python",
   "pygments_lexer": "ipython3",
   "version": "3.6.1"
  }
 },
 "nbformat": 4,
 "nbformat_minor": 2
}
